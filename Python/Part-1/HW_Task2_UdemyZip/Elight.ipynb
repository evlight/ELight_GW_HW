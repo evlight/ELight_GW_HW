{
 "cells": [
  {
   "cell_type": "code",
   "execution_count": 12,
   "metadata": {},
   "outputs": [
    {
     "ename": "SyntaxError",
     "evalue": "invalid syntax (<ipython-input-12-3bbd7b405081>, line 27)",
     "output_type": "error",
     "traceback": [
      "\u001b[1;36m  File \u001b[1;32m\"<ipython-input-12-3bbd7b405081>\"\u001b[1;36m, line \u001b[1;32m27\u001b[0m\n\u001b[1;33m    review_percent.append(percent)\u001b[0m\n\u001b[1;37m                 ^\u001b[0m\n\u001b[1;31mSyntaxError\u001b[0m\u001b[1;31m:\u001b[0m invalid syntax\n"
     ]
    }
   ],
   "source": [
    "import os\n",
    "import csv\n",
    "\n",
    "web_starter = os.path.join(\"web_starter.csv\")\n",
    "\n",
    "title = []\n",
    "price = []\n",
    "subscribers = []\n",
    "reviews = []\n",
    "length = []\n",
    "review_percent =[]\n",
    "\n",
    "with open(web_starter, encoding='utf-8') as csvfile:\n",
    "#use the delimiter function to separate your tittle by the comma\n",
    "    csvreader = csv.reader(csvfile, delimiter=\",\")\n",
    "    \n",
    "    # loop through\n",
    "    for row in csvreader:\n",
    "    #add each tittle   \n",
    "        title.append(row[1])\n",
    "        price.append(row[4])\n",
    "        subscribers.append(row[5])\n",
    "        reviews.append(row[6])\n",
    "        length.append(row[9])\n",
    "       \n",
    "        percent = round(int(row[6]/int(row[5],2)\n",
    "        review_percent.append(percent)\n",
    "                        \n",
    "        new_lenght = row[9].split(\" \")\n",
    "        lenght.append(float(new_leght[0])\n",
    "                      \n",
    "#combine all the collumns together                      \n",
    "        \n",
    "zipped_data = zip(title,price, subscribers, reviews, review_percent, length) \n",
    "\n",
    "output_file = os.path.join(\"eLight_final_output.csv\")\n",
    "                      \n",
    "final_data =  output_file \n",
    "for i in final_data:\n",
    "    print(i)\n",
    "                 \n",
    "with open(output_file, \"w\", newline='') as datafile:\n",
    "        writer = csv.writer(datafile)\n",
    "        \n",
    "        writer.writerow([\"Title\",\"Price\",\"Subscribers\",\"Reviews\",\"Review Percent\",\"Length\"])\n",
    "        writer.writerows(zipped_data)\n"
   ]
  },
  {
   "cell_type": "code",
   "execution_count": null,
   "metadata": {},
   "outputs": [],
   "source": []
  }
 ],
 "metadata": {
  "kernelspec": {
   "display_name": "Python 3",
   "language": "python",
   "name": "python3"
  },
  "language_info": {
   "codemirror_mode": {
    "name": "ipython",
    "version": 3
   },
   "file_extension": ".py",
   "mimetype": "text/x-python",
   "name": "python",
   "nbconvert_exporter": "python",
   "pygments_lexer": "ipython3",
   "version": "3.7.3"
  }
 },
 "nbformat": 4,
 "nbformat_minor": 2
}
