{
 "cells": [
  {
   "cell_type": "code",
   "execution_count": 4,
   "metadata": {},
   "outputs": [
    {
     "name": "stdout",
     "output_type": "stream",
     "text": [
      "['When', 'Jackie', 'Chan', 'saw', 'an', 'Oscar', 'at', 'Sylvester', \"Stallone's\", 'house', '23', 'years', 'ago,', 'he', 'said', 'that', 'was', 'the', 'moment', 'he', 'decided', 'he', 'wanted', 'one.', '', 'On', 'Saturday', 'at', 'the', 'annual', 'Governors', 'Awards,', 'the', 'Chinese', 'actor', 'and', 'martial', 'arts', 'star', 'finally', 'received', 'his', 'little', 'gold', 'statuette,', 'an', 'honorary', 'Oscar', 'for', 'his', 'decades', 'of', 'work', 'in', 'film.', '', '\"After', '56', 'years', 'in', 'the', 'film', 'industry,', 'making', 'more', 'than', '200', 'films,', 'after', 'so', 'many', 'bones,', 'finally,\"', 'Chan,', '62,', 'quipped', 'at', 'the', 'star-studded', 'gala', 'dinner', 'while', 'holding', 'his', 'Oscar.', '', 'The', 'actor', 'recalled', 'watching', 'the', 'ceremony', 'with', 'his', 'parents', 'and', 'his', 'father', 'always', 'asking', 'him', 'why', 'he', \"didn't\", 'have', \"Hollywood's\", 'top', 'accolade', 'despite', 'having', 'made', 'so', 'many', 'movies.', '', 'He', 'praised', 'his', 'hometown', 'Hong', 'Kong', 'for', 'making', 'him', '\"proud', 'to', 'be', 'Chinese,\"', 'and', 'thanked', 'his', 'fans,', 'saying', 'they', 'were', 'the', 'reason', '\"I', 'continue', 'to', 'make', 'movies,', 'jumping', 'through', 'windows,', 'kicking', 'and', 'punching,', 'breaking', 'my', 'bones.\"', '', 'The', 'actor', 'was', 'introduced', 'by', 'his', '\"Rush', 'Hour\"', 'co-star', 'Chris', 'Tucker,', 'actress', 'Michelle', 'Yeoh', 'and', 'Tom', 'Hanks,', 'who', 'referred', 'to', 'him', 'as', '\"Jackie', \"'Chantastic'\", 'Chan.\"', '', 'Hanks', 'said', 'it', 'was', 'especially', 'gratifying', 'to', 'be', 'able', 'to', 'acknowledge', \"Chan's\", 'work', 'because', 'martial', 'arts', 'and', 'action', 'comedy', 'films', 'were', 'two', 'genres', 'often', 'overlooked', 'during', 'awards', 'season.', '', 'The', 'Academy', 'of', 'Motion', 'Pictures', 'Arts', 'and', 'Sciences,', 'hosts', 'of', 'the', 'annual', 'ceremony,', 'also', 'bestowed', 'honorary', 'Oscars', 'on', 'British', 'film', 'editor', 'Anne', 'V.', 'Coates,', 'casting', 'director', 'Lynn', 'Stalmaster', 'and', 'prolific', 'documentarian', 'Frederick', 'Wiseman.', '', 'The', 'evening', 'was', 'attended', 'by', \"Hollywood's\", 'elite,', 'including', 'Denzel', 'Washington,', 'Lupita', \"Nyong'o,\", 'Nicole', 'Kidman,', 'Emma', 'Stone,', 'Ryan', 'Reynolds,', 'Amy', 'Adams', 'and', 'Dev', 'Patel.', '', 'Stalmaster,', '88,', 'credited', 'with', 'securing', 'career-defining', 'roles', 'for', 'actors', 'such', 'as', 'Jeff', 'Bridges,', 'Andy', 'Garcia,', 'Christopher', 'Reeve', 'and', 'John', 'Travolta,', 'is', 'the', 'first', 'casting', 'director', 'to', 'receive', 'an', 'Oscar.']\n",
      "[\"When Jackie Chan saw an Oscar at Sylvester Stallone's house 23 years ago, he said that was the moment he decided he wanted one.\", 'On Saturday at the annual Governors Awards, the Chinese actor and martial arts star finally received his little gold statuette, an honorary Oscar for his decades of work in film.', '\"After 56 years in the film industry, making more than 200 films, after so many bones, finally,\" Chan, 62, quipped at the star-studded gala dinner while holding his Oscar.', \"The actor recalled watching the ceremony with his parents and his father always asking him why he didn't have Hollywood's top accolade despite having made so many movies.\", 'He praised his hometown Hong Kong for making him \"proud to be Chinese,\" and thanked his fans, saying they were the reason \"I continue to make movies, jumping through windows, kicking and punching, breaking my bones.\"  The actor was introduced by his \"Rush Hour\" co-star Chris Tucker, actress Michelle Yeoh and Tom Hanks, who referred to him as \"Jackie \\'Chantastic\\' Chan.\"  Hanks said it was especially gratifying to be able to acknowledge Chan\\'s work because martial arts and action comedy films were two genres often overlooked during awards season.', 'The Academy of Motion Pictures Arts and Sciences, hosts of the annual ceremony, also bestowed honorary Oscars on British film editor Anne V.', 'Coates, casting director Lynn Stalmaster and prolific documentarian Frederick Wiseman.', \"The evening was attended by Hollywood's elite, including Denzel Washington, Lupita Nyong'o, Nicole Kidman, Emma Stone, Ryan Reynolds, Amy Adams and Dev Patel.\", 'Stalmaster, 88, credited with securing career-defining roles for actors such as Jeff Bridges, Andy Garcia, Christopher Reeve and John Travolta, is the first casting director to receive an Oscar.']\n",
      "\n",
      "Paragraph Analysis\n",
      "-----------------\n",
      "Approximate Word Count: 294\n",
      "Approximate Sentence Count: 9\n",
      "Average Letter Count: 5.08843537414966\n",
      "Average Sentence Length: 31.88888888888889\n",
      "\n"
     ]
    },
    {
     "ename": "FileNotFoundError",
     "evalue": "[Errno 2] No such file or directory: 'analysis\\\\paragraph_analysis.txt'",
     "output_type": "error",
     "traceback": [
      "\u001b[1;31m---------------------------------------------------------------------------\u001b[0m",
      "\u001b[1;31mFileNotFoundError\u001b[0m                         Traceback (most recent call last)",
      "\u001b[1;32m<ipython-input-4-e899582260a8>\u001b[0m in \u001b[0;36m<module>\u001b[1;34m\u001b[0m\n\u001b[0;32m     62\u001b[0m \u001b[1;33m\u001b[0m\u001b[0m\n\u001b[0;32m     63\u001b[0m \u001b[1;31m# Save the results to analysis text file\u001b[0m\u001b[1;33m\u001b[0m\u001b[1;33m\u001b[0m\u001b[1;33m\u001b[0m\u001b[0m\n\u001b[1;32m---> 64\u001b[1;33m \u001b[1;32mwith\u001b[0m \u001b[0mopen\u001b[0m\u001b[1;33m(\u001b[0m\u001b[0mfile_to_output\u001b[0m\u001b[1;33m,\u001b[0m \u001b[1;34m\"a\"\u001b[0m\u001b[1;33m)\u001b[0m \u001b[1;32mas\u001b[0m \u001b[0mtxt_file\u001b[0m\u001b[1;33m:\u001b[0m\u001b[1;33m\u001b[0m\u001b[1;33m\u001b[0m\u001b[0m\n\u001b[0m\u001b[0;32m     65\u001b[0m     \u001b[0mtxt_file\u001b[0m\u001b[1;33m.\u001b[0m\u001b[0mwrite\u001b[0m\u001b[1;33m(\u001b[0m\u001b[0moutput\u001b[0m\u001b[1;33m)\u001b[0m\u001b[1;33m\u001b[0m\u001b[1;33m\u001b[0m\u001b[0m\n",
      "\u001b[1;31mFileNotFoundError\u001b[0m: [Errno 2] No such file or directory: 'analysis\\\\paragraph_analysis.txt'"
     ]
    }
   ],
   "source": [
    "# -*- coding: UTF-8 -*-\n",
    "import re\n",
    "import os\n",
    "\n",
    "# Files to load and output (Remember to change these)\n",
    "file_to_load = os.path.join(\"raw_data\", \"paragraph_2.txt\")\n",
    "file_to_output = os.path.join(\"analysis\", \"paragraph_analysis.txt\")\n",
    "\n",
    "# String variable to hold the paragraph contents\n",
    "paragraph = \"\"\n",
    "\n",
    "# Read the text file\n",
    "with open(file_to_load) as txt_data:\n",
    "\n",
    "    # Store the contents as a string (with no new lines)\n",
    "    paragraph = txt_data.read().replace(\"\\n\", \" \")\n",
    "\n",
    "# Split the paragraph based on spaces to calculate word count\n",
    "word_split = paragraph.split(\" \")\n",
    "print(word_split)\n",
    "word_count = len(word_split)\n",
    "\n",
    "# Create a list for holding all the letter counts\n",
    "letter_counts = []\n",
    "\n",
    "# Loop through the word array and calculate the length of each word\n",
    "for word in word_split:\n",
    "\n",
    "    # Add each letter count into the letter_counts list\n",
    "    letter_counts.append(len(word))\n",
    "\n",
    "# Calculate the avg letter count\n",
    "avg_letter_count = sum(letter_counts) / float(len(letter_counts))\n",
    "\n",
    "# Re-split the original paragraph based on punctuation (. ? !)\n",
    "sentence_split = re.split(\"(?<=[.!?]) +\", paragraph)\n",
    "print(sentence_split)\n",
    "sentence_count = len(sentence_split)\n",
    "\n",
    "words_per_sentence = []\n",
    "\n",
    "# Loop through the sentence array and calculate the number of words in each\n",
    "for sentence in sentence_split:\n",
    "\n",
    "    # Calculate the number of words in each sentence and add to the list\n",
    "    words_per_sentence.append(len(sentence.split(\" \")))\n",
    "\n",
    "# Calculate the avg word count (per sentence)\n",
    "avg_sentence_len = sum(words_per_sentence) / float(len(words_per_sentence))\n",
    "\n",
    "# Generate Paragraph Analysis Output\n",
    "output = (\n",
    "    f\"\\nParagraph Analysis\\n\"\n",
    "    f\"-----------------\\n\"\n",
    "    f\"Approximate Word Count: {word_count}\\n\"\n",
    "    f\"Approximate Sentence Count: {sentence_count}\\n\"\n",
    "    f\"Average Letter Count: {avg_letter_count}\\n\"\n",
    "    f\"Average Sentence Length: {avg_sentence_len}\\n\")\n",
    "\n",
    "# Print all of the results (to terminal)\n",
    "print(output)\n",
    "\n",
    "# Save the results to analysis text file\n",
    "with open(file_to_output, \"a\") as txt_file:\n",
    "    txt_file.write(output)"
   ]
  },
  {
   "cell_type": "code",
   "execution_count": null,
   "metadata": {},
   "outputs": [],
   "source": []
  }
 ],
 "metadata": {
  "kernelspec": {
   "display_name": "Python 3",
   "language": "python",
   "name": "python3"
  },
  "language_info": {
   "codemirror_mode": {
    "name": "ipython",
    "version": 3
   },
   "file_extension": ".py",
   "mimetype": "text/x-python",
   "name": "python",
   "nbconvert_exporter": "python",
   "pygments_lexer": "ipython3",
   "version": "3.7.3"
  }
 },
 "nbformat": 4,
 "nbformat_minor": 2
}
