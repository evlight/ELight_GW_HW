{
 "cells": [
  {
   "cell_type": "code",
   "execution_count": 32,
   "metadata": {},
   "outputs": [],
   "source": [
    "# Dependencies\n",
    "import csv\n",
    "import os"
   ]
  },
  {
   "cell_type": "code",
   "execution_count": 33,
   "metadata": {},
   "outputs": [],
   "source": [
    "file_to_load = os.path.join(\"budget_data.csv\")\n",
    "#file_to_output  = final_analysis  "
   ]
  },
  {
   "cell_type": "code",
   "execution_count": 34,
   "metadata": {},
   "outputs": [],
   "source": [
    "# Read the csv and convert it into a list of dictionaries\n",
    "total_months = 0\n",
    "month_of_change = []\n",
    "net_change_list = []\n",
    "greatest_increase = [\"\", 0]\n",
    "greatest_decrease = [\"\", 9999999999999999999]\n",
    "total_net = 0\n",
    "\n",
    "with open(file_to_load) as financial_data:\n",
    "    reader = csv.reader(financial_data)\n",
    "\n",
    "    header=next(reader)\n",
    "\n",
    "    first_row = next(reader)\n",
    "    total_months = total_months + 1\n",
    "    total_net = total_net + int(first_row[1])\n",
    "    prev_net = int(first_row[1])\n",
    "        \n",
    "\n",
    "\n",
    "    for row in reader:\n",
    "            \n",
    "        total_months = total_months+1\n",
    "        total_net = total_net = int(row[1])\n",
    "        net_change=int(row[1])-prev_net\n",
    "        prev_net=int(row[1])\n",
    "        net_change_list.append(net_change)\n",
    "        month_of_change = month_of_change + [row[0]]\n",
    "        # Calculate the greatest increase\n",
    "        # YOUR CODE HERE\n",
    "        if net_change == int(row[1]) - prev_net:\n",
    "            prev_net = int(row[1])\n",
    "            net_change_list.append(net_change)\n",
    "            month_of_change = month_of_change + [row[0]]\n",
    "        # Calculate the greatest decrease\n",
    "        # YOUR CODE HERE\n",
    "            \n",
    "# Calculate the Average Net Change\n",
    "        if net_change > greatest_increase[1]:\n",
    "            greatest_increase[0] = row[0]\n",
    "            greatest_increase[1] = net_change\n",
    "       \n",
    "        if net_change < greatest_decrease[1]:\n",
    "            greatest_decrease[0]= row[0]\n",
    "            greatest_decrease[1]=net_change\n",
    "        \n",
    "# YOUR CODE HERE\n",
    "net_monthly_avg = sum(net_change_list)/len(net_change_list)\n",
    "        \n",
    "    "
   ]
  },
  {
   "cell_type": "code",
   "execution_count": 35,
   "metadata": {},
   "outputs": [],
   "source": [
    "# Generate Output Summary\n",
    "output = (\n",
    "    f\"\\nFinancial Analysis\\n\"\n",
    "    f\"----------------------------\\n\"\n",
    "    f\"Total Months: {total_months}\\n\"\n",
    "    f\"Total: ${total_net}\\n\"\n",
    "    f\"Average  Change: ${net_monthly_avg:.2f}\\n\"\n",
    "    f\"Greatest Increase in Profits: {greatest_increase[0]} (${greatest_increase[1]})\\n\"\n",
    "    f\"Greatest Decrease in Profits: {greatest_decrease[0]} (${greatest_decrease[1]})\\n\")\n",
    "\n",
    "# Print the output (to terminal)\n",
    "#print(output)\n",
    "\n",
    "# Export the results to text file\n",
    "\n",
    "with open('final_analysis.txt','w') as textfile: \n",
    "    print (output, file = textfile) "
   ]
  }
 ],
 "metadata": {
  "kernelspec": {
   "display_name": "Python 3",
   "language": "python",
   "name": "python3"
  },
  "language_info": {
   "codemirror_mode": {
    "name": "ipython",
    "version": 3
   },
   "file_extension": ".py",
   "mimetype": "text/x-python",
   "name": "python",
   "nbconvert_exporter": "python",
   "pygments_lexer": "ipython3",
   "version": "3.7.3"
  }
 },
 "nbformat": 4,
 "nbformat_minor": 2
}
