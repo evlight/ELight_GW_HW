{
 "cells": [
  {
   "cell_type": "code",
   "execution_count": 1,
   "metadata": {},
   "outputs": [
    {
     "name": "stderr",
     "output_type": "stream",
     "text": [
      "C:\\Users\\erick\\Anaconda3\\lib\\site-packages\\IPython\\core\\interactiveshell.py:3057: DtypeWarning: Columns (21,57) have mixed types. Specify dtype option on import or set low_memory=False.\n",
      "  interactivity=interactivity, compiler=compiler, result=result)\n"
     ]
    }
   ],
   "source": [
    "# -*- coding: utf-8 -*-\n",
    "import pandas as pd\n",
    "import numpy as np\n",
    "# Store filepath in a variable\n",
    "file = \"Resources/2016-FCC-New-Coders-Survey-Data.csv\"\n",
    "\n",
    "# Read our Data file with the pandas library\n",
    "df = pd.read_csv(file, encoding=\"ISO-8859-1\")\n",
    "\n",
    "# search for specific column df.columns.get_loc(\"ExpectedEarning\")\n",
    "\n",
    "#index columns by number\n",
    "df = df.iloc[:, [0, 1, 2, 3, 4, 6, 7, 8, 9, 10, 11, 29, 30, 32, 36, 37, 45, 48, 56, 110, 111]]\n",
    "\n",
    "#replace 0's with 'No' and 1's with 'Yes'\n",
    "df['AttendedBootcamp'] = df['AttendedBootcamp'].replace(0,'No')\n",
    "df['AttendedBootcamp'] = df['AttendedBootcamp'].replace(1,'Yes')\n",
    "\n",
    "#subset df to get only people who attended bootcamp\n",
    "df=df[df.AttendedBootcamp == 'Yes']"
   ]
  },
  {
   "cell_type": "code",
   "execution_count": 3,
   "metadata": {},
   "outputs": [
    {
     "data": {
      "text/html": [
       "<div>\n",
       "<style scoped>\n",
       "    .dataframe tbody tr th:only-of-type {\n",
       "        vertical-align: middle;\n",
       "    }\n",
       "\n",
       "    .dataframe tbody tr th {\n",
       "        vertical-align: top;\n",
       "    }\n",
       "\n",
       "    .dataframe thead th {\n",
       "        text-align: right;\n",
       "    }\n",
       "</style>\n",
       "<table border=\"1\" class=\"dataframe\">\n",
       "  <thead>\n",
       "    <tr style=\"text-align: right;\">\n",
       "      <th></th>\n",
       "      <th>BootcampName</th>\n",
       "      <th>Attendees</th>\n",
       "    </tr>\n",
       "  </thead>\n",
       "  <tbody>\n",
       "    <tr>\n",
       "      <th>0</th>\n",
       "      <td>10x.org.il</td>\n",
       "      <td>5</td>\n",
       "    </tr>\n",
       "    <tr>\n",
       "      <th>1</th>\n",
       "      <td>4Geeks Academy</td>\n",
       "      <td>8</td>\n",
       "    </tr>\n",
       "    <tr>\n",
       "      <th>2</th>\n",
       "      <td>AcadGild</td>\n",
       "      <td>2</td>\n",
       "    </tr>\n",
       "    <tr>\n",
       "      <th>3</th>\n",
       "      <td>Academia de CÃ³digo</td>\n",
       "      <td>4</td>\n",
       "    </tr>\n",
       "    <tr>\n",
       "      <th>4</th>\n",
       "      <td>Academic Work Academy</td>\n",
       "      <td>1</td>\n",
       "    </tr>\n",
       "  </tbody>\n",
       "</table>\n",
       "</div>"
      ],
      "text/plain": [
       "            BootcampName  Attendees\n",
       "0             10x.org.il          5\n",
       "1         4Geeks Academy          8\n",
       "2               AcadGild          2\n",
       "3    Academia de CÃ³digo          4\n",
       "4  Academic Work Academy          1"
      ]
     },
     "execution_count": 3,
     "metadata": {},
     "output_type": "execute_result"
    }
   ],
   "source": [
    "#Create a DataFrame with bootcamp name and the number of respondents who went to each bootcamp.\n",
    "group_df = df.groupby(\"BootcampName\")\n",
    "#count rows for each bootcamp name\n",
    "attendees = group_df.size()\n",
    "#reset index\n",
    "attendees = attendees.reset_index()\n",
    "\n",
    "attendees=attendees.rename(columns = {0:'Attendees'})\n",
    "attendees.head()"
   ]
  },
  {
   "cell_type": "code",
   "execution_count": 4,
   "metadata": {},
   "outputs": [],
   "source": [
    "#Create another DataFrame with bootcamp name and the number of respondents who recommend it.\n",
    "recommenders = group_df['BootcampRecommend'].sum()\n",
    "recommenders = recommenders.reset_index()\n",
    "\n",
    "recommenders=recommenders.rename(columns = {'BootcampRecommend':'Recommendations'})"
   ]
  },
  {
   "cell_type": "code",
   "execution_count": 5,
   "metadata": {},
   "outputs": [
    {
     "data": {
      "text/html": [
       "<div>\n",
       "<style scoped>\n",
       "    .dataframe tbody tr th:only-of-type {\n",
       "        vertical-align: middle;\n",
       "    }\n",
       "\n",
       "    .dataframe tbody tr th {\n",
       "        vertical-align: top;\n",
       "    }\n",
       "\n",
       "    .dataframe thead th {\n",
       "        text-align: right;\n",
       "    }\n",
       "</style>\n",
       "<table border=\"1\" class=\"dataframe\">\n",
       "  <thead>\n",
       "    <tr style=\"text-align: right;\">\n",
       "      <th></th>\n",
       "      <th>BootcampName</th>\n",
       "      <th>Attendees</th>\n",
       "      <th>Recommendations</th>\n",
       "    </tr>\n",
       "  </thead>\n",
       "  <tbody>\n",
       "    <tr>\n",
       "      <th>0</th>\n",
       "      <td>10x.org.il</td>\n",
       "      <td>5</td>\n",
       "      <td>3.0</td>\n",
       "    </tr>\n",
       "    <tr>\n",
       "      <th>1</th>\n",
       "      <td>4Geeks Academy</td>\n",
       "      <td>8</td>\n",
       "      <td>4.0</td>\n",
       "    </tr>\n",
       "    <tr>\n",
       "      <th>2</th>\n",
       "      <td>AcadGild</td>\n",
       "      <td>2</td>\n",
       "      <td>2.0</td>\n",
       "    </tr>\n",
       "    <tr>\n",
       "      <th>3</th>\n",
       "      <td>Academia de CÃ³digo</td>\n",
       "      <td>4</td>\n",
       "      <td>4.0</td>\n",
       "    </tr>\n",
       "    <tr>\n",
       "      <th>4</th>\n",
       "      <td>Academic Work Academy</td>\n",
       "      <td>1</td>\n",
       "      <td>0.0</td>\n",
       "    </tr>\n",
       "  </tbody>\n",
       "</table>\n",
       "</div>"
      ],
      "text/plain": [
       "            BootcampName  Attendees  Recommendations\n",
       "0             10x.org.il          5              3.0\n",
       "1         4Geeks Academy          8              4.0\n",
       "2               AcadGild          2              2.0\n",
       "3    Academia de CÃ³digo          4              4.0\n",
       "4  Academic Work Academy          1              0.0"
      ]
     },
     "execution_count": 5,
     "metadata": {},
     "output_type": "execute_result"
    }
   ],
   "source": [
    "#Merge dataframes\n",
    "merge_table = pd.merge(attendees, recommenders, on=\"BootcampName\")\n",
    "merge_table.head()"
   ]
  },
  {
   "cell_type": "code",
   "execution_count": 6,
   "metadata": {},
   "outputs": [],
   "source": [
    "#Create a new column containing the percentage of respondents for each bootcamp who would recommend that bootcamp.\n",
    "merge_table['Percent_Recommend'] = round(((merge_table['Recommendations']/merge_table['Attendees'])*100),2)\n",
    "\n",
    "#Sort the new DataFrame in descending order of the percentage of recommenders you just calculated.\n",
    "merge_table = merge_table.sort_values(by=['Percent_Recommend'], ascending=False)\n",
    "\n",
    "#Use map and format to make the \"% Recommended\" column look more presentable.\n",
    "merge_table['Percent_Recommend'] = merge_table['Percent_Recommend'].map(\"{:}%\".format)\n",
    "\n",
    "#Finally, export your DataFrame to an Excel file.\n",
    "merge_table.to_csv(\"final_2.csv\",header=True,index=False)"
   ]
  }
 ],
 "metadata": {
  "kernelspec": {
   "display_name": "Python 3",
   "language": "python",
   "name": "python3"
  },
  "language_info": {
   "codemirror_mode": {
    "name": "ipython",
    "version": 3
   },
   "file_extension": ".py",
   "mimetype": "text/x-python",
   "name": "python",
   "nbconvert_exporter": "python",
   "pygments_lexer": "ipython3",
   "version": "3.7.3"
  }
 },
 "nbformat": 4,
 "nbformat_minor": 2
}
